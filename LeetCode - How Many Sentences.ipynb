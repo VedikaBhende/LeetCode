{
 "cells": [
  {
   "cell_type": "markdown",
   "id": "cb537bf1",
   "metadata": {},
   "source": [
    "# How many Sentences?\n",
    "\n",
    "### Given an array of words and an array of sentences, determine which words are anagrams of each other. Calculate how many sentences can be created by replacing any word with one of its anagrams. \n",
    "\n",
    "##### Example:\n",
    "###### wordSet = ['listen', 'silent', 'it', 'is']\n",
    "###### sentence = 'listen it is silent'\n",
    "###### Determine that listen is an anagram of silent. Those two words can be replaced with their anagrams. The four sentences that can be created are:\n",
    "###### •\tlisten it is silent\n",
    "###### •\tlisten it is listen\n",
    "###### •\tsilent it is listen\n",
    "###### •\tsilent it is listen"
   ]
  },
  {
   "cell_type": "code",
   "execution_count": 1,
   "id": "1663da2b",
   "metadata": {},
   "outputs": [],
   "source": [
    "wordSet = ['listen', 'silent', 'it', 'is']\n",
    "sentence = 'listen it is silent'"
   ]
  },
  {
   "cell_type": "markdown",
   "id": "16953ad7",
   "metadata": {},
   "source": [
    "### Function Description:\n",
    "#### countSentences has the following parameters:\n",
    "\t# string wordSet[n]: an array of strings\n",
    "\t# string sentences[m]: an array of strings\n",
    "    \n",
    "### Returns: \n",
    "#### int[]: an array of integers that denote the number of sentences that can be formed from each sentence\n"
   ]
  },
  {
   "cell_type": "code",
   "execution_count": 2,
   "id": "b7d59276",
   "metadata": {},
   "outputs": [],
   "source": [
    "def countSentences(wordSet, sentences):\n",
    "    wordmap={}\n",
    "    for word in wordSet:\n",
    "        temp = tuple(sorted(word))\n",
    "        wordmap[temp] = wordmap.get(temp,0)+1\n",
    "    answer = [1]*len(sentences)\n",
    "    for i in range(len(sentences)):\n",
    "        for word in sentences[i].split():\n",
    "            key = tuple(sorted(word))\n",
    "            if key in wordmap:\n",
    "                answer[i]*=wordmap[key]\n",
    "    return answer"
   ]
  },
  {
   "cell_type": "code",
   "execution_count": 3,
   "id": "4970e019",
   "metadata": {},
   "outputs": [],
   "source": [
    "get_answer = countSentences(wordSet, sentence)"
   ]
  },
  {
   "cell_type": "code",
   "execution_count": 4,
   "id": "3461e3ca",
   "metadata": {},
   "outputs": [
    {
     "data": {
      "text/plain": [
       "[1, 1, 1, 1, 1, 1, 1, 1, 1, 1, 1, 1, 1, 1, 1, 1, 1, 1, 1]"
      ]
     },
     "execution_count": 4,
     "metadata": {},
     "output_type": "execute_result"
    }
   ],
   "source": [
    "get_answer"
   ]
  },
  {
   "cell_type": "code",
   "execution_count": null,
   "id": "51e11de9",
   "metadata": {},
   "outputs": [],
   "source": []
  }
 ],
 "metadata": {
  "kernelspec": {
   "display_name": "Python 3 (ipykernel)",
   "language": "python",
   "name": "python3"
  },
  "language_info": {
   "codemirror_mode": {
    "name": "ipython",
    "version": 3
   },
   "file_extension": ".py",
   "mimetype": "text/x-python",
   "name": "python",
   "nbconvert_exporter": "python",
   "pygments_lexer": "ipython3",
   "version": "3.9.12"
  }
 },
 "nbformat": 4,
 "nbformat_minor": 5
}
