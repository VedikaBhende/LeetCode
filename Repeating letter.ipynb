{
 "cells": [
  {
   "cell_type": "markdown",
   "id": "ab1bc62b",
   "metadata": {},
   "source": [
    "#### CODE THAT PROMPTS USER TO ENTER LIST OF WORDS. ONLY THOSE WORDS WHOSE FIRST LETTER IS REPEATED WITHIN WORD(EG. BABOON, FIFTY) SHOULD GET DISPLAYED"
   ]
  },
  {
   "cell_type": "code",
   "execution_count": 1,
   "id": "51b3d933",
   "metadata": {},
   "outputs": [
    {
     "name": "stdout",
     "output_type": "stream",
     "text": [
      "How many words do you want to enter?\n",
      "9\n",
      "Enter keyword: america\n",
      "Enter keyword: cactus\n",
      "Enter keyword: bottle\n",
      "Enter keyword: spontaneous\n",
      "Enter keyword: hardly\n",
      "Enter keyword: lily\n",
      "Enter keyword: mouse\n",
      "Enter keyword: hospital\n",
      "Enter keyword: fifty\n"
     ]
    }
   ],
   "source": [
    "get_words = int(input('How many words do you want to enter?\\n'))\n",
    "i=0\n",
    "ans=[]\n",
    "wordlist=[]\n",
    "while i < get_words:  # loop used for taking input of words\n",
    "    key_word=input(\"Enter keyword: \") \n",
    "    wordlist.append(key_word) # append keyword - adds to existing list of words\n",
    "    i=i+1"
   ]
  },
  {
   "cell_type": "code",
   "execution_count": 2,
   "id": "f4103dd8",
   "metadata": {},
   "outputs": [
    {
     "data": {
      "text/plain": [
       "['america',\n",
       " 'cactus',\n",
       " 'bottle',\n",
       " 'spontaneous',\n",
       " 'hardly',\n",
       " 'lily',\n",
       " 'mouse',\n",
       " 'hospital',\n",
       " 'fifty']"
      ]
     },
     "execution_count": 2,
     "metadata": {},
     "output_type": "execute_result"
    }
   ],
   "source": [
    "wordlist"
   ]
  },
  {
   "cell_type": "code",
   "execution_count": 3,
   "id": "081de10b",
   "metadata": {},
   "outputs": [
    {
     "name": "stdout",
     "output_type": "stream",
     "text": [
      "The strings which have the first letter of them in the string are:\n"
     ]
    },
    {
     "data": {
      "text/plain": [
       "['america', 'cactus', 'spontaneous', 'lily', 'fifty']"
      ]
     },
     "execution_count": 3,
     "metadata": {},
     "output_type": "execute_result"
    }
   ],
   "source": [
    "c=0\n",
    "for n in wordlist: \n",
    "    l=len(n)\n",
    "    c=n.count(n[0],1,l)  # inbuilt function used to count occurrences\n",
    "    if c>0:\n",
    "        ans.append(n)  # adds element at the end of list\n",
    "print ('The strings which have the first letter of them in the string are:')\n",
    "ans"
   ]
  },
  {
   "cell_type": "code",
   "execution_count": null,
   "id": "5ad29658",
   "metadata": {},
   "outputs": [],
   "source": []
  }
 ],
 "metadata": {
  "kernelspec": {
   "display_name": "Python 3 (ipykernel)",
   "language": "python",
   "name": "python3"
  },
  "language_info": {
   "codemirror_mode": {
    "name": "ipython",
    "version": 3
   },
   "file_extension": ".py",
   "mimetype": "text/x-python",
   "name": "python",
   "nbconvert_exporter": "python",
   "pygments_lexer": "ipython3",
   "version": "3.9.12"
  }
 },
 "nbformat": 4,
 "nbformat_minor": 5
}
